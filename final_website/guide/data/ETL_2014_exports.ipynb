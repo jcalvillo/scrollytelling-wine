{
 "cells": [
  {
   "cell_type": "markdown",
   "metadata": {},
   "source": [
    "# Scrollytelling_wine\n",
    "---  \n",
    "\n",
    "---  "
   ]
  },
  {
   "cell_type": "code",
   "execution_count": 2,
   "metadata": {},
   "outputs": [],
   "source": [
    "# requirements\n",
    "import pandas as pd"
   ]
  },
  {
   "cell_type": "markdown",
   "metadata": {},
   "source": [
    "## Countries\n",
    "---  \n",
    "\n",
    "---"
   ]
  },
  {
   "cell_type": "code",
   "execution_count": 5,
   "metadata": {},
   "outputs": [
    {
     "data": {
      "text/html": [
       "<div>\n",
       "<style scoped>\n",
       "    .dataframe tbody tr th:only-of-type {\n",
       "        vertical-align: middle;\n",
       "    }\n",
       "\n",
       "    .dataframe tbody tr th {\n",
       "        vertical-align: top;\n",
       "    }\n",
       "\n",
       "    .dataframe thead th {\n",
       "        text-align: right;\n",
       "    }\n",
       "</style>\n",
       "<table border=\"1\" class=\"dataframe\">\n",
       "  <thead>\n",
       "    <tr style=\"text-align: right;\">\n",
       "      <th></th>\n",
       "      <th>id</th>\n",
       "      <th>id_3char</th>\n",
       "      <th>name</th>\n",
       "    </tr>\n",
       "  </thead>\n",
       "  <tbody>\n",
       "    <tr>\n",
       "      <th>0</th>\n",
       "      <td>afago</td>\n",
       "      <td>ago</td>\n",
       "      <td>Angola</td>\n",
       "    </tr>\n",
       "    <tr>\n",
       "      <th>1</th>\n",
       "      <td>afbdi</td>\n",
       "      <td>bdi</td>\n",
       "      <td>Burundi</td>\n",
       "    </tr>\n",
       "    <tr>\n",
       "      <th>2</th>\n",
       "      <td>afben</td>\n",
       "      <td>ben</td>\n",
       "      <td>Benin</td>\n",
       "    </tr>\n",
       "    <tr>\n",
       "      <th>3</th>\n",
       "      <td>afbfa</td>\n",
       "      <td>bfa</td>\n",
       "      <td>Burkina Faso</td>\n",
       "    </tr>\n",
       "    <tr>\n",
       "      <th>4</th>\n",
       "      <td>afbwa</td>\n",
       "      <td>bwa</td>\n",
       "      <td>Botswana</td>\n",
       "    </tr>\n",
       "  </tbody>\n",
       "</table>\n",
       "</div>"
      ],
      "text/plain": [
       "      id id_3char          name\n",
       "0  afago      ago        Angola\n",
       "1  afbdi      bdi       Burundi\n",
       "2  afben      ben         Benin\n",
       "3  afbfa      bfa  Burkina Faso\n",
       "4  afbwa      bwa      Botswana"
      ]
     },
     "execution_count": 5,
     "metadata": {},
     "output_type": "execute_result"
    }
   ],
   "source": [
    "# country names\n",
    "countries_df = pd.read_table(\"country_names.tsv\")\n",
    "countries_df.head()"
   ]
  },
  {
   "cell_type": "code",
   "execution_count": 51,
   "metadata": {},
   "outputs": [
    {
     "data": {
      "text/html": [
       "<div>\n",
       "<style scoped>\n",
       "    .dataframe tbody tr th:only-of-type {\n",
       "        vertical-align: middle;\n",
       "    }\n",
       "\n",
       "    .dataframe tbody tr th {\n",
       "        vertical-align: top;\n",
       "    }\n",
       "\n",
       "    .dataframe thead th {\n",
       "        text-align: right;\n",
       "    }\n",
       "</style>\n",
       "<table border=\"1\" class=\"dataframe\">\n",
       "  <thead>\n",
       "    <tr style=\"text-align: right;\">\n",
       "      <th></th>\n",
       "      <th>id</th>\n",
       "      <th>id_3char</th>\n",
       "      <th>name</th>\n",
       "    </tr>\n",
       "  </thead>\n",
       "  <tbody>\n",
       "    <tr>\n",
       "      <th>216</th>\n",
       "      <td>naumi</td>\n",
       "      <td>umi</td>\n",
       "      <td>United States Minor Outlying Islands</td>\n",
       "    </tr>\n",
       "    <tr>\n",
       "      <th>217</th>\n",
       "      <td>nausa</td>\n",
       "      <td>usa</td>\n",
       "      <td>United States</td>\n",
       "    </tr>\n",
       "  </tbody>\n",
       "</table>\n",
       "</div>"
      ],
      "text/plain": [
       "        id id_3char                                  name\n",
       "216  naumi      umi  United States Minor Outlying Islands\n",
       "217  nausa      usa                         United States"
      ]
     },
     "execution_count": 51,
     "metadata": {},
     "output_type": "execute_result"
    }
   ],
   "source": [
    "# which code is US?\n",
    "countries_df[ countries_df['name'].str.contains(\"United States\") ]"
   ]
  },
  {
   "cell_type": "code",
   "execution_count": 52,
   "metadata": {},
   "outputs": [
    {
     "data": {
      "text/html": [
       "<div>\n",
       "<style scoped>\n",
       "    .dataframe tbody tr th:only-of-type {\n",
       "        vertical-align: middle;\n",
       "    }\n",
       "\n",
       "    .dataframe tbody tr th {\n",
       "        vertical-align: top;\n",
       "    }\n",
       "\n",
       "    .dataframe thead th {\n",
       "        text-align: right;\n",
       "    }\n",
       "</style>\n",
       "<table border=\"1\" class=\"dataframe\">\n",
       "  <thead>\n",
       "    <tr style=\"text-align: right;\">\n",
       "      <th></th>\n",
       "      <th>id</th>\n",
       "      <th>id_3char</th>\n",
       "      <th>name</th>\n",
       "    </tr>\n",
       "  </thead>\n",
       "  <tbody>\n",
       "    <tr>\n",
       "      <th>135</th>\n",
       "      <td>euesp</td>\n",
       "      <td>esp</td>\n",
       "      <td>Spain</td>\n",
       "    </tr>\n",
       "  </tbody>\n",
       "</table>\n",
       "</div>"
      ],
      "text/plain": [
       "        id id_3char   name\n",
       "135  euesp      esp  Spain"
      ]
     },
     "execution_count": 52,
     "metadata": {},
     "output_type": "execute_result"
    }
   ],
   "source": [
    "# which code is Spain?\n",
    "countries_df[ countries_df['name'].str.contains(\"Spain\") ]"
   ]
  },
  {
   "cell_type": "markdown",
   "metadata": {},
   "source": [
    "## Products\n",
    "---  \n",
    "\n",
    "---"
   ]
  },
  {
   "cell_type": "code",
   "execution_count": 9,
   "metadata": {},
   "outputs": [
    {
     "data": {
      "text/html": [
       "<div>\n",
       "<style scoped>\n",
       "    .dataframe tbody tr th:only-of-type {\n",
       "        vertical-align: middle;\n",
       "    }\n",
       "\n",
       "    .dataframe tbody tr th {\n",
       "        vertical-align: top;\n",
       "    }\n",
       "\n",
       "    .dataframe thead th {\n",
       "        text-align: right;\n",
       "    }\n",
       "</style>\n",
       "<table border=\"1\" class=\"dataframe\">\n",
       "  <thead>\n",
       "    <tr style=\"text-align: right;\">\n",
       "      <th></th>\n",
       "      <th>id</th>\n",
       "      <th>hs07</th>\n",
       "      <th>name</th>\n",
       "    </tr>\n",
       "  </thead>\n",
       "  <tbody>\n",
       "    <tr>\n",
       "      <th>851</th>\n",
       "      <td>42204</td>\n",
       "      <td>2204</td>\n",
       "      <td>Wine of fresh grapes, including fortified wine...</td>\n",
       "    </tr>\n",
       "    <tr>\n",
       "      <th>853</th>\n",
       "      <td>4220421</td>\n",
       "      <td>220421</td>\n",
       "      <td>Wine other than sparkling wine of fresh grapes...</td>\n",
       "    </tr>\n",
       "    <tr>\n",
       "      <th>854</th>\n",
       "      <td>4220429</td>\n",
       "      <td>220429</td>\n",
       "      <td>Wine other than sparkling wine of fresh grapes...</td>\n",
       "    </tr>\n",
       "    <tr>\n",
       "      <th>899</th>\n",
       "      <td>42307</td>\n",
       "      <td>2307</td>\n",
       "      <td>Wine lees; argol</td>\n",
       "    </tr>\n",
       "    <tr>\n",
       "      <th>900</th>\n",
       "      <td>4230700</td>\n",
       "      <td>230700</td>\n",
       "      <td>Wine lees; argol</td>\n",
       "    </tr>\n",
       "  </tbody>\n",
       "</table>\n",
       "</div>"
      ],
      "text/plain": [
       "          id    hs07                                               name\n",
       "851    42204    2204  Wine of fresh grapes, including fortified wine...\n",
       "853  4220421  220421  Wine other than sparkling wine of fresh grapes...\n",
       "854  4220429  220429  Wine other than sparkling wine of fresh grapes...\n",
       "899    42307    2307                                   Wine lees; argol\n",
       "900  4230700  230700                                   Wine lees; argol"
      ]
     },
     "execution_count": 9,
     "metadata": {},
     "output_type": "execute_result"
    }
   ],
   "source": [
    "# product names\n",
    "products_df = pd.read_table(\"products_hs_07.tsv\")\n",
    "products_df[ products_df['name'].str.contains(\"Wine\") ]"
   ]
  },
  {
   "cell_type": "code",
   "execution_count": 10,
   "metadata": {},
   "outputs": [],
   "source": [
    "# wine lees is not ov interest\n",
    "wineHS = [2204, 220421, 220429]"
   ]
  },
  {
   "cell_type": "markdown",
   "metadata": {},
   "source": [
    "## Exports\n",
    "---  \n",
    "\n",
    "---"
   ]
  },
  {
   "cell_type": "code",
   "execution_count": 43,
   "metadata": {},
   "outputs": [
    {
     "name": "stdout",
     "output_type": "stream",
     "text": [
      "<class 'pandas.core.frame.DataFrame'>\n",
      "Int64Index: 218 entries, 1352 to 1569\n",
      "Data columns (total 4 columns):\n",
      "year          218 non-null int64\n",
      "origin        218 non-null object\n",
      "hs07          218 non-null int64\n",
      "export_val    165 non-null float64\n",
      "dtypes: float64(1), int64(2), object(1)\n",
      "memory usage: 8.5+ KB\n"
     ]
    }
   ],
   "source": [
    "# exports\n",
    "exports_df = pd.read_table(\"year_origin_hs07_4.tsv\")\n",
    "exports_df = exports_df[ exports_df['hs07'].isin(wineHS) ].reset_index(drop=True)\n",
    "exp2014_df = exports_df[exports_df['year'] == 2014].drop(columns=['import_val', 'export_rca', 'import_rca'])\n",
    "\n",
    "# we have 218 data points\n",
    "exp2014_df.info()"
   ]
  },
  {
   "cell_type": "code",
   "execution_count": 90,
   "metadata": {},
   "outputs": [
    {
     "name": "stdout",
     "output_type": "stream",
     "text": [
      "$ 34.98 Billion\n"
     ]
    }
   ],
   "source": [
    "# what is total exports globally worth?\n",
    "total = exp2014_df.export_val.sum()\n",
    "print('$', round(total/1000000000,2),'Billion')"
   ]
  },
  {
   "cell_type": "code",
   "execution_count": 83,
   "metadata": {},
   "outputs": [
    {
     "name": "stdout",
     "output_type": "stream",
     "text": [
      "usa exports =  4.4 % of global exports\n",
      "spain exports =  9.76 % of global exports\n"
     ]
    }
   ],
   "source": [
    "# what portion was US and Spain?\n",
    "usa = exp2014_df[ exp2014_df['origin'] == 'usa' ]['export_val'].values[0]\n",
    "spain = exp2014_df[ exp2014_df['origin'] == 'esp' ]['export_val'].values[0]\n",
    "print ('usa exports = ', round(usa/total*100, 2), '% of global exports')\n",
    "print ('spain exports = ', round(spain/total*100,2), '% of global exports')"
   ]
  },
  {
   "cell_type": "markdown",
   "metadata": {},
   "source": [
    "## Putting it together\n",
    "---  \n",
    "\n",
    "---"
   ]
  },
  {
   "cell_type": "code",
   "execution_count": 91,
   "metadata": {},
   "outputs": [
    {
     "data": {
      "text/html": [
       "<div>\n",
       "<style scoped>\n",
       "    .dataframe tbody tr th:only-of-type {\n",
       "        vertical-align: middle;\n",
       "    }\n",
       "\n",
       "    .dataframe tbody tr th {\n",
       "        vertical-align: top;\n",
       "    }\n",
       "\n",
       "    .dataframe thead th {\n",
       "        text-align: right;\n",
       "    }\n",
       "</style>\n",
       "<table border=\"1\" class=\"dataframe\">\n",
       "  <thead>\n",
       "    <tr style=\"text-align: right;\">\n",
       "      <th></th>\n",
       "      <th>year</th>\n",
       "      <th>origin</th>\n",
       "      <th>hs07</th>\n",
       "      <th>export_val</th>\n",
       "    </tr>\n",
       "  </thead>\n",
       "  <tbody>\n",
       "    <tr>\n",
       "      <th>1352</th>\n",
       "      <td>2014</td>\n",
       "      <td>ago</td>\n",
       "      <td>2204</td>\n",
       "      <td>3079.6</td>\n",
       "    </tr>\n",
       "    <tr>\n",
       "      <th>1353</th>\n",
       "      <td>2014</td>\n",
       "      <td>bdi</td>\n",
       "      <td>2204</td>\n",
       "      <td>NaN</td>\n",
       "    </tr>\n",
       "    <tr>\n",
       "      <th>1354</th>\n",
       "      <td>2014</td>\n",
       "      <td>ben</td>\n",
       "      <td>2204</td>\n",
       "      <td>3013.0</td>\n",
       "    </tr>\n",
       "    <tr>\n",
       "      <th>1355</th>\n",
       "      <td>2014</td>\n",
       "      <td>bfa</td>\n",
       "      <td>2204</td>\n",
       "      <td>1204846.2</td>\n",
       "    </tr>\n",
       "    <tr>\n",
       "      <th>1356</th>\n",
       "      <td>2014</td>\n",
       "      <td>caf</td>\n",
       "      <td>2204</td>\n",
       "      <td>NaN</td>\n",
       "    </tr>\n",
       "  </tbody>\n",
       "</table>\n",
       "</div>"
      ],
      "text/plain": [
       "      year origin  hs07  export_val\n",
       "1352  2014    ago  2204      3079.6\n",
       "1353  2014    bdi  2204         NaN\n",
       "1354  2014    ben  2204      3013.0\n",
       "1355  2014    bfa  2204   1204846.2\n",
       "1356  2014    caf  2204         NaN"
      ]
     },
     "execution_count": 91,
     "metadata": {},
     "output_type": "execute_result"
    }
   ],
   "source": [
    "exp2014_df.head()"
   ]
  },
  {
   "cell_type": "code",
   "execution_count": 97,
   "metadata": {},
   "outputs": [
    {
     "data": {
      "text/html": [
       "<div>\n",
       "<style scoped>\n",
       "    .dataframe tbody tr th:only-of-type {\n",
       "        vertical-align: middle;\n",
       "    }\n",
       "\n",
       "    .dataframe tbody tr th {\n",
       "        vertical-align: top;\n",
       "    }\n",
       "\n",
       "    .dataframe thead th {\n",
       "        text-align: right;\n",
       "    }\n",
       "</style>\n",
       "<table border=\"1\" class=\"dataframe\">\n",
       "  <thead>\n",
       "    <tr style=\"text-align: right;\">\n",
       "      <th></th>\n",
       "      <th>year</th>\n",
       "      <th>hs_code</th>\n",
       "      <th>export_value_USD</th>\n",
       "      <th>country</th>\n",
       "      <th>product</th>\n",
       "    </tr>\n",
       "  </thead>\n",
       "  <tbody>\n",
       "    <tr>\n",
       "      <th>0</th>\n",
       "      <td>2014</td>\n",
       "      <td>2204</td>\n",
       "      <td>3079.6</td>\n",
       "      <td>Angola</td>\n",
       "      <td>Wine of fresh grapes, including fortified wine...</td>\n",
       "    </tr>\n",
       "    <tr>\n",
       "      <th>1</th>\n",
       "      <td>2014</td>\n",
       "      <td>2204</td>\n",
       "      <td>NaN</td>\n",
       "      <td>Burundi</td>\n",
       "      <td>Wine of fresh grapes, including fortified wine...</td>\n",
       "    </tr>\n",
       "    <tr>\n",
       "      <th>2</th>\n",
       "      <td>2014</td>\n",
       "      <td>2204</td>\n",
       "      <td>3013.0</td>\n",
       "      <td>Benin</td>\n",
       "      <td>Wine of fresh grapes, including fortified wine...</td>\n",
       "    </tr>\n",
       "    <tr>\n",
       "      <th>3</th>\n",
       "      <td>2014</td>\n",
       "      <td>2204</td>\n",
       "      <td>1204846.2</td>\n",
       "      <td>Burkina Faso</td>\n",
       "      <td>Wine of fresh grapes, including fortified wine...</td>\n",
       "    </tr>\n",
       "    <tr>\n",
       "      <th>4</th>\n",
       "      <td>2014</td>\n",
       "      <td>2204</td>\n",
       "      <td>NaN</td>\n",
       "      <td>Central African Republic</td>\n",
       "      <td>Wine of fresh grapes, including fortified wine...</td>\n",
       "    </tr>\n",
       "  </tbody>\n",
       "</table>\n",
       "</div>"
      ],
      "text/plain": [
       "   year  hs_code  export_value_USD                   country  \\\n",
       "0  2014     2204            3079.6                    Angola   \n",
       "1  2014     2204               NaN                   Burundi   \n",
       "2  2014     2204            3013.0                     Benin   \n",
       "3  2014     2204         1204846.2              Burkina Faso   \n",
       "4  2014     2204               NaN  Central African Republic   \n",
       "\n",
       "                                             product  \n",
       "0  Wine of fresh grapes, including fortified wine...  \n",
       "1  Wine of fresh grapes, including fortified wine...  \n",
       "2  Wine of fresh grapes, including fortified wine...  \n",
       "3  Wine of fresh grapes, including fortified wine...  \n",
       "4  Wine of fresh grapes, including fortified wine...  "
      ]
     },
     "execution_count": 97,
     "metadata": {},
     "output_type": "execute_result"
    }
   ],
   "source": [
    "df = pd.merge(exp2014_df, countries_df, left_on='origin', right_on='id_3char').drop(columns=['origin', 'id', 'id_3char'])\n",
    "df = pd.merge(df,products_df, on='hs07').drop(columns=['id'])\n",
    "df.columns = ['year', 'hs_code', 'export_value_USD', 'country', 'product']\n",
    "df.head()"
   ]
  },
  {
   "cell_type": "code",
   "execution_count": 99,
   "metadata": {},
   "outputs": [],
   "source": [
    "df.to_json('exports2014.json', orient='records', lines=True)"
   ]
  }
 ],
 "metadata": {
  "kernelspec": {
   "display_name": "Python 3",
   "language": "python",
   "name": "python3"
  },
  "language_info": {
   "codemirror_mode": {
    "name": "ipython",
    "version": 3
   },
   "file_extension": ".py",
   "mimetype": "text/x-python",
   "name": "python",
   "nbconvert_exporter": "python",
   "pygments_lexer": "ipython3",
   "version": "3.6.4"
  }
 },
 "nbformat": 4,
 "nbformat_minor": 2
}
