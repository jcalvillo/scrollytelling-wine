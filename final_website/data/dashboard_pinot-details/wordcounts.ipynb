{
 "cells": [
  {
   "cell_type": "markdown",
   "metadata": {},
   "source": [
    "## Word Count - Pinot wines\n",
    "---"
   ]
  },
  {
   "cell_type": "code",
   "execution_count": 134,
   "metadata": {},
   "outputs": [
    {
     "name": "stderr",
     "output_type": "stream",
     "text": [
      "/Library/Frameworks/Python.framework/Versions/3.6/lib/python3.6/site-packages/pandas/core/generic.py:4619: SettingWithCopyWarning: \n",
      "A value is trying to be set on a copy of a slice from a DataFrame\n",
      "\n",
      "See the caveats in the documentation: http://pandas.pydata.org/pandas-docs/stable/indexing.html#indexing-view-versus-copy\n",
      "  self._update_inplace(new_data)\n"
     ]
    }
   ],
   "source": [
    "import pandas as pd\n",
    "import numpy \n",
    "reviews_df = pd.read_json('winemag-data-130k-v2.json')\n",
    "reviews_df = reviews_df[reviews_df.variety.notnull()]\n",
    "pinot_df = reviews_df[reviews_df['variety'].str.contains(\"Pinot\")].reset_index(drop=True)\n",
    "pinot_df['variety'].replace('\\s+', '_',regex=True,inplace=True)\n",
    "\n",
    "counts_df = pd.DataFrame(columns=['variety','word','count'])\n",
    "for i in list(pinot_df.variety.unique()):\n",
    "    temp_df = pinot_df[pinot_df['variety']==i]\n",
    "    temp_df['variety'].replace('_', ' ',regex=True,inplace=True)\n",
    "    slice_df = pd.Series(' '.join(temp_df.description).split()).value_counts().to_frame()\n",
    "    slice_df.reset_index(inplace=True)\n",
    "    slice_df.columns = ['word','count']\n",
    "    slice_df['variety'] = i\n",
    "    slice_df['variety'].replace('_', ' ',regex=True,inplace=True)\n",
    "    slice_df['word'] = slice_df['word'].map(lambda x: x.strip('+-.,').lower())\n",
    "    counts_df= counts_df.append(slice_df)\n",
    "counts_df.to_csv('wordcounts.csv', encoding='utf-8')"
   ]
  },
  {
   "cell_type": "code",
   "execution_count": null,
   "metadata": {},
   "outputs": [],
   "source": []
  }
 ],
 "metadata": {
  "kernelspec": {
   "display_name": "Python 3",
   "language": "python",
   "name": "python3"
  },
  "language_info": {
   "codemirror_mode": {
    "name": "ipython",
    "version": 3
   },
   "file_extension": ".py",
   "mimetype": "text/x-python",
   "name": "python",
   "nbconvert_exporter": "python",
   "pygments_lexer": "ipython3",
   "version": "3.6.4"
  }
 },
 "nbformat": 4,
 "nbformat_minor": 2
}
